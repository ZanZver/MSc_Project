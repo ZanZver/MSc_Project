{
 "cells": [
  {
   "cell_type": "markdown",
   "metadata": {},
   "source": [
    "# Instal libraries"
   ]
  },
  {
   "cell_type": "code",
   "execution_count": 36,
   "metadata": {},
   "outputs": [],
   "source": [
    "#!pip3 install psycopg2-binary"
   ]
  },
  {
   "cell_type": "markdown",
   "metadata": {},
   "source": [
    "# Import libraries"
   ]
  },
  {
   "cell_type": "code",
   "execution_count": null,
   "metadata": {},
   "outputs": [],
   "source": [
    "#import os\n",
    "import psycopg2\n",
    "from psycopg2.extras import execute_values, RealDictCursor\n",
    "import polars as pl\n",
    "#import json\n",
    "from psycopg2 import OperationalError, sql\n",
    "from contextlib import contextmanager\n",
    "#from dotenv import load_dotenv"
   ]
  },
  {
   "cell_type": "markdown",
   "metadata": {},
   "source": [
    "# Functions"
   ]
  },
  {
   "cell_type": "code",
   "execution_count": 2,
   "metadata": {},
   "outputs": [],
   "source": [
    "DB_NAME=\"testdb\"\n",
    "DB_USER=\"admin\"\n",
    "DB_PASSWORD=\"your_password\"\n",
    "DB_HOST=\"localhost\"\n",
    "DB_PORT=\"6432\""
   ]
  },
  {
   "cell_type": "code",
   "execution_count": 3,
   "metadata": {},
   "outputs": [],
   "source": [
    "@contextmanager\n",
    "def get_db_connection():\n",
    "    \"\"\"Context manager for PostgreSQL database connection.\"\"\"\n",
    "    conn = None\n",
    "    try:\n",
    "        # Establish the connection using environment variables\n",
    "        conn = psycopg2.connect(\n",
    "            dbname=DB_NAME,\n",
    "            user=DB_USER,\n",
    "            password=DB_PASSWORD,\n",
    "            host=DB_HOST,\n",
    "            port=DB_PORT\n",
    "        )\n",
    "        # Yield the connection to be used in the 'with' block\n",
    "        yield conn\n",
    "    except OperationalError as e:\n",
    "        print(f\"An error occurred while connecting to the database: {e}\")\n",
    "        raise\n",
    "    finally:\n",
    "        if conn:\n",
    "            conn.close()"
   ]
  },
  {
   "cell_type": "code",
   "execution_count": 4,
   "metadata": {},
   "outputs": [],
   "source": [
    "def test_db_connection():\n",
    "    \"\"\"Test function to verify database connection.\"\"\"\n",
    "    try:\n",
    "        with get_db_connection() as conn:\n",
    "            with conn.cursor() as cur:\n",
    "                # Execute a simple query to test the connection\n",
    "                cur.execute(sql.SQL(\"SELECT 1\"))\n",
    "                result = cur.fetchone()\n",
    "                if result:\n",
    "                    print(\"Database connection successful.\")\n",
    "                else:\n",
    "                    print(\"Failed to retrieve data from the database.\")\n",
    "    except Exception as e:\n",
    "        print(f\"Test failed: {e}\")"
   ]
  },
  {
   "cell_type": "code",
   "execution_count": 5,
   "metadata": {},
   "outputs": [],
   "source": [
    "def load_and_prepare_data(parquet_file_path: str) -> pl.DataFrame:\n",
    "    \"\"\"\n",
    "    Load and process the Parquet data file, expanding the `full_vehicleInfo` column.\n",
    "    \"\"\"\n",
    "    # Read the Parquet file\n",
    "    df = pl.read_parquet(parquet_file_path)\n",
    "\n",
    "    # Cast 'full_vehicleInfo' to Struct type and unnest\n",
    "    return df.with_columns(\n",
    "        pl.col(\"full_vehicleInfo\").cast(pl.Struct)\n",
    "    ).unnest(\"full_vehicleInfo\")"
   ]
  },
  {
   "cell_type": "code",
   "execution_count": 6,
   "metadata": {},
   "outputs": [],
   "source": [
    "def insert_data_into_db(df: pl.DataFrame, table_name: str):\n",
    "    \"\"\"\n",
    "    Insert data from a Polars DataFrame into a PostgreSQL table.\n",
    "    \"\"\"\n",
    "    # Convert Polars DataFrame to list of tuples\n",
    "    records = df.to_dicts()\n",
    "    \n",
    "    # Use the first record to generate column names dynamically\n",
    "    columns = list(records[0].keys())\n",
    "    rows = [tuple(record.values()) for record in records]\n",
    "\n",
    "    # Database connection\n",
    "    conn = None\n",
    "    try:\n",
    "        conn = psycopg2.connect(\n",
    "            dbname=DB_NAME,\n",
    "            user=DB_USER,\n",
    "            password=DB_PASSWORD,\n",
    "            host=DB_HOST,\n",
    "            port=DB_PORT\n",
    "        )\n",
    "        with conn.cursor() as cur:\n",
    "            # Create an insert query dynamically\n",
    "            insert_query = f\"INSERT INTO {table_name} ({', '.join(columns)}) VALUES %s\"\n",
    "            execute_values(cur, insert_query, rows)\n",
    "            conn.commit()\n",
    "            print(f\"{len(rows)} records successfully inserted into {table_name}.\")\n",
    "    except Exception as e:\n",
    "        print(f\"An error occurred while inserting data: {e}\")\n",
    "    finally:\n",
    "        if conn:\n",
    "            conn.close()"
   ]
  },
  {
   "cell_type": "code",
   "execution_count": 7,
   "metadata": {},
   "outputs": [],
   "source": [
    "def map_polars_to_postgres_types(polars_dtype):\n",
    "    \"\"\"\n",
    "    Map Polars data types to PostgreSQL data types.\n",
    "    \"\"\"\n",
    "    type_mapping = {\n",
    "        pl.Int32: \"INTEGER\",\n",
    "        pl.Int64: \"BIGINT\",\n",
    "        pl.Float32: \"REAL\",\n",
    "        pl.Float64: \"DOUBLE PRECISION\",\n",
    "        pl.Utf8: \"TEXT\",\n",
    "        pl.Boolean: \"BOOLEAN\",\n",
    "        pl.Date: \"DATE\",\n",
    "        pl.Datetime: \"TIMESTAMP\",\n",
    "        pl.List: \"JSONB\",  # If lists are used, JSONB is a good fit\n",
    "    }\n",
    "    return type_mapping.get(polars_dtype, \"TEXT\")  # Default to TEXT for unknown types"
   ]
  },
  {
   "cell_type": "code",
   "execution_count": 8,
   "metadata": {},
   "outputs": [],
   "source": [
    "def create_table_from_df(table_name: str, df: pl.DataFrame):\n",
    "    \"\"\"\n",
    "    Create a PostgreSQL table based on the schema of a Polars DataFrame.\n",
    "    \"\"\"\n",
    "    # Generate column definitions based on DataFrame schema\n",
    "    columns = [\n",
    "        f\"{col_name} {map_polars_to_postgres_types(dtype)}\"\n",
    "        for col_name, dtype in zip(df.columns, df.dtypes)\n",
    "    ]\n",
    "    columns_sql = \", \".join(columns)\n",
    "    \n",
    "    # Construct CREATE TABLE statement\n",
    "    create_table_query = f\"\"\"\n",
    "    CREATE TABLE IF NOT EXISTS {table_name} (\n",
    "        {columns_sql}\n",
    "    );\n",
    "    \"\"\"\n",
    "    \n",
    "    # Connect to PostgreSQL and execute the query\n",
    "    conn = None\n",
    "    try:\n",
    "        conn = psycopg2.connect(\n",
    "            dbname=DB_NAME,\n",
    "            user=DB_USER,\n",
    "            password=DB_PASSWORD,\n",
    "            host=DB_HOST,\n",
    "            port=DB_PORT\n",
    "        )\n",
    "        with conn.cursor() as cur:\n",
    "            cur.execute(create_table_query)\n",
    "            conn.commit()\n",
    "            print(f\"Table '{table_name}' created successfully.\")\n",
    "    except Exception as e:\n",
    "        print(f\"An error occurred while creating the table: {e}\")\n",
    "    finally:\n",
    "        if conn:\n",
    "            conn.close()"
   ]
  },
  {
   "cell_type": "code",
   "execution_count": 9,
   "metadata": {},
   "outputs": [],
   "source": [
    "def retrieve_data_from_db(query: str, params: tuple = ()) -> list:\n",
    "    \"\"\"\n",
    "    Retrieve data from the PostgreSQL database based on a query.\n",
    "\n",
    "    Args:\n",
    "        query (str): The SQL query to execute.\n",
    "        params (tuple): Parameters for the SQL query.\n",
    "\n",
    "    Returns:\n",
    "        list: A list of dictionaries containing the query results.\n",
    "    \"\"\"\n",
    "    conn = None\n",
    "    try:\n",
    "        # Connect to the PostgreSQL database\n",
    "        conn = psycopg2.connect(\n",
    "            dbname=DB_NAME,\n",
    "            user=DB_USER,\n",
    "            password=DB_PASSWORD,\n",
    "            host=DB_HOST,\n",
    "            port=DB_PORT\n",
    "        )\n",
    "        with conn.cursor(cursor_factory=RealDictCursor) as cur:\n",
    "            # Execute the query\n",
    "            cur.execute(query, params)\n",
    "            # Fetch all results\n",
    "            # Convert the results to a Polars DataFrame\n",
    "            return pl.DataFrame(cur.fetchall())\n",
    "    except Exception as e:\n",
    "        print(f\"An error occurred while retrieving data: {e}\")\n",
    "        return []\n",
    "    finally:\n",
    "        if conn:\n",
    "            conn.close()"
   ]
  },
  {
   "cell_type": "code",
   "execution_count": 10,
   "metadata": {},
   "outputs": [],
   "source": [
    "def update_record_in_db(table_name: str, update_values: dict, condition: str, condition_params: tuple):\n",
    "    \"\"\"\n",
    "    Update records in a PostgreSQL table.\n",
    "\n",
    "    Args:\n",
    "        table_name (str): The name of the table to update.\n",
    "        update_values (dict): A dictionary of column-value pairs to update.\n",
    "        condition (str): The WHERE clause to specify which records to update.\n",
    "        condition_params (tuple): Parameters for the WHERE clause.\n",
    "\n",
    "    Returns:\n",
    "        int: The number of rows affected.\n",
    "    \"\"\"\n",
    "    conn = None\n",
    "    try:\n",
    "        # Connect to the PostgreSQL database\n",
    "        conn = psycopg2.connect(\n",
    "            dbname=DB_NAME,\n",
    "            user=DB_USER,\n",
    "            password=DB_PASSWORD,\n",
    "            host=DB_HOST,\n",
    "            port=DB_PORT\n",
    "        )\n",
    "        with conn.cursor() as cur:\n",
    "            # Generate the SET part of the SQL query dynamically\n",
    "            set_clause = \", \".join([f\"{col} = %s\" for col in update_values.keys()])\n",
    "            update_query = f\"UPDATE {table_name} SET {set_clause} WHERE {condition}\"\n",
    "            \n",
    "            # Combine the values to update and the WHERE clause parameters\n",
    "            query_params = tuple(update_values.values()) + condition_params\n",
    "            \n",
    "            # Execute the update query\n",
    "            cur.execute(update_query, query_params)\n",
    "            conn.commit()\n",
    "            \n",
    "            # Return the number of rows affected\n",
    "            return cur.rowcount\n",
    "    except Exception as e:\n",
    "        print(f\"An error occurred while updating the record: {e}\")\n",
    "        return 0\n",
    "    finally:\n",
    "        if conn:\n",
    "            conn.close()"
   ]
  },
  {
   "cell_type": "code",
   "execution_count": 11,
   "metadata": {},
   "outputs": [],
   "source": [
    "def delete_record_from_db(table_name: str, condition: str, condition_params: tuple) -> int:\n",
    "    \"\"\"\n",
    "    Delete records from a PostgreSQL table.\n",
    "\n",
    "    Args:\n",
    "        table_name (str): The name of the table from which to delete records.\n",
    "        condition (str): The WHERE clause to specify which records to delete.\n",
    "        condition_params (tuple): Parameters for the WHERE clause.\n",
    "\n",
    "    Returns:\n",
    "        int: The number of rows affected (deleted).\n",
    "    \"\"\"\n",
    "    conn = None\n",
    "    try:\n",
    "        # Connect to the PostgreSQL database\n",
    "        conn = psycopg2.connect(\n",
    "            dbname=DB_NAME,\n",
    "            user=DB_USER,\n",
    "            password=DB_PASSWORD,\n",
    "            host=DB_HOST,\n",
    "            port=DB_PORT\n",
    "        )\n",
    "        with conn.cursor() as cur:\n",
    "            # Construct the DELETE query\n",
    "            delete_query = f\"DELETE FROM {table_name} WHERE {condition}\"\n",
    "            \n",
    "            # Execute the DELETE query\n",
    "            cur.execute(delete_query, condition_params)\n",
    "            conn.commit()\n",
    "            \n",
    "            # Return the number of rows deleted\n",
    "            return cur.rowcount\n",
    "    except Exception as e:\n",
    "        print(f\"An error occurred while deleting the record: {e}\")\n",
    "        return 0\n",
    "    finally:\n",
    "        if conn:\n",
    "            conn.close()"
   ]
  },
  {
   "cell_type": "markdown",
   "metadata": {},
   "source": [
    "# Main"
   ]
  },
  {
   "cell_type": "markdown",
   "metadata": {},
   "source": [
    "## Test connection"
   ]
  },
  {
   "cell_type": "code",
   "execution_count": 17,
   "metadata": {},
   "outputs": [
    {
     "name": "stdout",
     "output_type": "stream",
     "text": [
      "Database connection successful.\n"
     ]
    }
   ],
   "source": [
    "test_db_connection()"
   ]
  },
  {
   "cell_type": "markdown",
   "metadata": {},
   "source": [
    "## Prepare data"
   ]
  },
  {
   "cell_type": "code",
   "execution_count": 18,
   "metadata": {},
   "outputs": [],
   "source": [
    "parquet_file_path = \"../Data/Transform/Small/data.parquet\"\n",
    "table_name = \"vehicles\""
   ]
  },
  {
   "cell_type": "code",
   "execution_count": 19,
   "metadata": {},
   "outputs": [],
   "source": [
    "df = load_and_prepare_data(parquet_file_path)"
   ]
  },
  {
   "cell_type": "markdown",
   "metadata": {},
   "source": [
    "## Create table"
   ]
  },
  {
   "cell_type": "code",
   "execution_count": 20,
   "metadata": {},
   "outputs": [
    {
     "name": "stdout",
     "output_type": "stream",
     "text": [
      "Table 'vehicles' created successfully.\n"
     ]
    }
   ],
   "source": [
    "create_table_from_df(table_name, df)"
   ]
  },
  {
   "cell_type": "markdown",
   "metadata": {},
   "source": [
    "## Insert data"
   ]
  },
  {
   "cell_type": "code",
   "execution_count": 21,
   "metadata": {},
   "outputs": [
    {
     "name": "stdout",
     "output_type": "stream",
     "text": [
      "1000 records successfully inserted into vehicles.\n"
     ]
    }
   ],
   "source": [
    "insert_data_into_db(df, table_name)"
   ]
  },
  {
   "cell_type": "markdown",
   "metadata": {},
   "source": [
    "# Testing"
   ]
  },
  {
   "cell_type": "markdown",
   "metadata": {},
   "source": [
    "## Test 1 - fetch data from db"
   ]
  },
  {
   "cell_type": "code",
   "execution_count": 53,
   "metadata": {},
   "outputs": [
    {
     "name": "stdout",
     "output_type": "stream",
     "text": [
      "shape: (25, 9)\n",
      "┌───────────┬───────────┬───────────┬───────────┬───┬───────────┬───────────┬───────────┬──────────┐\n",
      "│ vin       ┆ license_p ┆ vehicle_m ┆ vehicle_m ┆ … ┆ vehicle_c ┆ vehicle_m ┆ vehicle_y ┆ vehicle_ │\n",
      "│ ---       ┆ late      ┆ ake       ┆ odel      ┆   ┆ ategory   ┆ ake_model ┆ ear_make_ ┆ year_mak │\n",
      "│ str       ┆ ---       ┆ ---       ┆ ---       ┆   ┆ ---       ┆ ---       ┆ model     ┆ e_model_ │\n",
      "│           ┆ str       ┆ str       ┆ str       ┆   ┆ str       ┆ str       ┆ ---       ┆ cat      │\n",
      "│           ┆           ┆           ┆           ┆   ┆           ┆           ┆ str       ┆ ---      │\n",
      "│           ┆           ┆           ┆           ┆   ┆           ┆           ┆           ┆ str      │\n",
      "╞═══════════╪═══════════╪═══════════╪═══════════╪═══╪═══════════╪═══════════╪═══════════╪══════════╡\n",
      "│ 82HFE9767 ┆ WU37 WRN  ┆ Mitsubish ┆ Montero   ┆ … ┆ SUV       ┆ Mitsubish ┆ 1999 Mits ┆ 1999 Mit │\n",
      "│ U326DEZ2  ┆           ┆ i         ┆           ┆   ┆           ┆ i Montero ┆ ubishi    ┆ subishi  │\n",
      "│           ┆           ┆           ┆           ┆   ┆           ┆           ┆ Montero   ┆ Montero  │\n",
      "│           ┆           ┆           ┆           ┆   ┆           ┆           ┆           ┆ (SUV)    │\n",
      "│ G18HM8JU4 ┆ UQ52TGE   ┆ Jeep      ┆ Grand     ┆ … ┆ SUV       ┆ Jeep      ┆ 1999 Jeep ┆ 1999     │\n",
      "│ AW1GZBZ7  ┆           ┆           ┆ Cherokee  ┆   ┆           ┆ Grand     ┆ Grand     ┆ Jeep     │\n",
      "│           ┆           ┆           ┆           ┆   ┆           ┆ Cherokee  ┆ Cherokee  ┆ Grand    │\n",
      "│           ┆           ┆           ┆           ┆   ┆           ┆           ┆           ┆ Cherokee │\n",
      "│           ┆           ┆           ┆           ┆   ┆           ┆           ┆           ┆ (SUV)    │\n",
      "│ VY82FAK12 ┆ QW73INP   ┆ MAZDA     ┆ B-Series  ┆ … ┆ Pickup    ┆ MAZDA     ┆ 1999      ┆ 1999     │\n",
      "│ T6E8W80Y  ┆           ┆           ┆ Cab Plus  ┆   ┆           ┆ B-Series  ┆ MAZDA     ┆ MAZDA    │\n",
      "│           ┆           ┆           ┆           ┆   ┆           ┆ Cab Plus  ┆ B-Series  ┆ B-Series │\n",
      "│           ┆           ┆           ┆           ┆   ┆           ┆           ┆ Cab Plus  ┆ Cab Plus │\n",
      "│           ┆           ┆           ┆           ┆   ┆           ┆           ┆           ┆ (…       │\n",
      "│ RNJJ2SH10 ┆ UD47 UUB  ┆ GMC       ┆ Savana    ┆ … ┆ Van/Miniv ┆ GMC       ┆ 1999 GMC  ┆ 1999 GMC │\n",
      "│ 4YJENECG  ┆           ┆           ┆ 2500      ┆   ┆ an        ┆ Savana    ┆ Savana    ┆ Savana   │\n",
      "│           ┆           ┆           ┆ Cargo     ┆   ┆           ┆ 2500      ┆ 2500      ┆ 2500     │\n",
      "│           ┆           ┆           ┆           ┆   ┆           ┆ Cargo     ┆ Cargo     ┆ Cargo    │\n",
      "│           ┆           ┆           ┆           ┆   ┆           ┆           ┆           ┆ (Va…     │\n",
      "│ 3PDVVFP72 ┆ VG00 UUT  ┆ GMC       ┆ 1500 Club ┆ … ┆ Pickup    ┆ GMC 1500  ┆ 1999 GMC  ┆ 1999 GMC │\n",
      "│ PN4SHC8W  ┆           ┆           ┆ Coupe     ┆   ┆           ┆ Club      ┆ 1500 Club ┆ 1500     │\n",
      "│           ┆           ┆           ┆           ┆   ┆           ┆ Coupe     ┆ Coupe     ┆ Club     │\n",
      "│           ┆           ┆           ┆           ┆   ┆           ┆           ┆           ┆ Coupe    │\n",
      "│           ┆           ┆           ┆           ┆   ┆           ┆           ┆           ┆ (Pick…   │\n",
      "│ …         ┆ …         ┆ …         ┆ …         ┆ … ┆ …         ┆ …         ┆ …         ┆ …        │\n",
      "│ RE65EP4D9 ┆ JO63 JFI  ┆ Chevrolet ┆ Silverado ┆ … ┆ Pickup    ┆ Chevrolet ┆ 1999      ┆ 1999 Che │\n",
      "│ JBCTA93F  ┆           ┆           ┆ 2500      ┆   ┆           ┆ Silverado ┆ Chevrolet ┆ vrolet   │\n",
      "│           ┆           ┆           ┆ Extended  ┆   ┆           ┆ 2500      ┆ Silverado ┆ Silverad │\n",
      "│           ┆           ┆           ┆ Cab       ┆   ┆           ┆ Exten…    ┆ 2500 …    ┆ o 2500 … │\n",
      "│ VK92VHX0X ┆ RZ74 TOJ  ┆ BMW       ┆ M3        ┆ … ┆ Coupe,    ┆ BMW M3    ┆ 1999 BMW  ┆ 1999 BMW │\n",
      "│ TUK5VSY2  ┆           ┆           ┆           ┆   ┆ Convertib ┆           ┆ M3        ┆ M3       │\n",
      "│           ┆           ┆           ┆           ┆   ┆ le        ┆           ┆           ┆ (Coupe,  │\n",
      "│           ┆           ┆           ┆           ┆   ┆           ┆           ┆           ┆ Converti │\n",
      "│           ┆           ┆           ┆           ┆   ┆           ┆           ┆           ┆ bl…      │\n",
      "│ 033MFST90 ┆ TK73ABD   ┆ Suzuki    ┆ Grand     ┆ … ┆ SUV       ┆ Suzuki    ┆ 1999      ┆ 1999     │\n",
      "│ 5PCT21MW  ┆           ┆           ┆ Vitara    ┆   ┆           ┆ Grand     ┆ Suzuki    ┆ Suzuki   │\n",
      "│           ┆           ┆           ┆           ┆   ┆           ┆ Vitara    ┆ Grand     ┆ Grand    │\n",
      "│           ┆           ┆           ┆           ┆   ┆           ┆           ┆ Vitara    ┆ Vitara   │\n",
      "│           ┆           ┆           ┆           ┆   ┆           ┆           ┆           ┆ (SUV)    │\n",
      "│ V466H31DX ┆ BY62XDU   ┆ Suzuki    ┆ Esteem    ┆ … ┆ Sedan,    ┆ Suzuki    ┆ 1999      ┆ 1999     │\n",
      "│ KX8F7Y7W  ┆           ┆           ┆           ┆   ┆ Wagon     ┆ Esteem    ┆ Suzuki    ┆ Suzuki   │\n",
      "│           ┆           ┆           ┆           ┆   ┆           ┆           ┆ Esteem    ┆ Esteem   │\n",
      "│           ┆           ┆           ┆           ┆   ┆           ┆           ┆           ┆ (Sedan,  │\n",
      "│           ┆           ┆           ┆           ┆   ┆           ┆           ┆           ┆ Wag…     │\n",
      "│ EWZGHDW49 ┆ EV68MYH   ┆ Lexus     ┆ RX        ┆ … ┆ SUV       ┆ Lexus RX  ┆ 1999      ┆ 1999     │\n",
      "│ SR6VNTGT  ┆           ┆           ┆           ┆   ┆           ┆           ┆ Lexus RX  ┆ Lexus RX │\n",
      "│           ┆           ┆           ┆           ┆   ┆           ┆           ┆           ┆ (SUV)    │\n",
      "└───────────┴───────────┴───────────┴───────────┴───┴───────────┴───────────┴───────────┴──────────┘\n"
     ]
    }
   ],
   "source": [
    "data = retrieve_data_from_db(query = \"SELECT * FROM vehicles WHERE vehicle_year = %s;\", params = (1999,))\n",
    "print(data)"
   ]
  },
  {
   "cell_type": "code",
   "execution_count": 54,
   "metadata": {},
   "outputs": [
    {
     "name": "stdout",
     "output_type": "stream",
     "text": [
      "shape: (1_000, 9)\n",
      "┌──────────┬──────────┬──────────┬──────────┬──────────┬──────────┬──────────┬──────────┬──────────┐\n",
      "│ vin      ┆ license_ ┆ vehicle_ ┆ vehicle_ ┆ vehicle_ ┆ vehicle_ ┆ vehicle_ ┆ vehicle_ ┆ vehicle_ │\n",
      "│ ---      ┆ plate    ┆ make     ┆ model    ┆ year     ┆ category ┆ make_mod ┆ year_mak ┆ year_mak │\n",
      "│ str      ┆ ---      ┆ ---      ┆ ---      ┆ ---      ┆ ---      ┆ el       ┆ e_model  ┆ e_model_ │\n",
      "│          ┆ str      ┆ str      ┆ str      ┆ i64      ┆ str      ┆ ---      ┆ ---      ┆ cat      │\n",
      "│          ┆          ┆          ┆          ┆          ┆          ┆ str      ┆ str      ┆ ---      │\n",
      "│          ┆          ┆          ┆          ┆          ┆          ┆          ┆          ┆ str      │\n",
      "╞══════════╪══════════╪══════════╪══════════╪══════════╪══════════╪══════════╪══════════╪══════════╡\n",
      "│ 82HFE976 ┆ WU37 WRN ┆ Mitsubis ┆ Montero  ┆ 1999     ┆ SUV      ┆ Mitsubis ┆ 1999 Mit ┆ 1999 Mit │\n",
      "│ 7U326DEZ ┆          ┆ hi       ┆          ┆          ┆          ┆ hi       ┆ subishi  ┆ subishi  │\n",
      "│ 2        ┆          ┆          ┆          ┆          ┆          ┆ Montero  ┆ Montero  ┆ Montero  │\n",
      "│          ┆          ┆          ┆          ┆          ┆          ┆          ┆          ┆ (SUV)    │\n",
      "│ H1AUMH0D ┆ XO18 RDM ┆ Ferrari  ┆ 612 Scag ┆ 2006     ┆ Coupe    ┆ Ferrari  ┆ 2006     ┆ 2006     │\n",
      "│ 9M76R7NN ┆          ┆          ┆ lietti   ┆          ┆          ┆ 612 Scag ┆ Ferrari  ┆ Ferrari  │\n",
      "│ G        ┆          ┆          ┆          ┆          ┆          ┆ lietti   ┆ 612 Scag ┆ 612 Scag │\n",
      "│          ┆          ┆          ┆          ┆          ┆          ┆          ┆ lietti   ┆ lietti   │\n",
      "│          ┆          ┆          ┆          ┆          ┆          ┆          ┆          ┆ (C…      │\n",
      "│ JPC53EJ6 ┆ GV19IWV  ┆ GMC      ┆ Envoy    ┆ 2002     ┆ SUV      ┆ GMC      ┆ 2002 GMC ┆ 2002 GMC │\n",
      "│ 3E7RHWPA ┆          ┆          ┆          ┆          ┆          ┆ Envoy    ┆ Envoy    ┆ Envoy    │\n",
      "│ P        ┆          ┆          ┆          ┆          ┆          ┆          ┆          ┆ (SUV)    │\n",
      "│ AFAWRHEL ┆ GU72PMU  ┆ GMC      ┆ Suburban ┆ 1995     ┆ SUV      ┆ GMC      ┆ 1995 GMC ┆ 1995 GMC │\n",
      "│ 34E3LSH5 ┆          ┆          ┆ 2500     ┆          ┆          ┆ Suburban ┆ Suburban ┆ Suburban │\n",
      "│ D        ┆          ┆          ┆          ┆          ┆          ┆ 2500     ┆ 2500     ┆ 2500     │\n",
      "│          ┆          ┆          ┆          ┆          ┆          ┆          ┆          ┆ (SUV)    │\n",
      "│ G9FGUSPE ┆ TC78MMT  ┆ GMC      ┆ Terrain  ┆ 2019     ┆ SUV      ┆ GMC      ┆ 2019 GMC ┆ 2019 GMC │\n",
      "│ 39ZY6480 ┆          ┆          ┆          ┆          ┆          ┆ Terrain  ┆ Terrain  ┆ Terrain  │\n",
      "│ A        ┆          ┆          ┆          ┆          ┆          ┆          ┆          ┆ (SUV)    │\n",
      "│ …        ┆ …        ┆ …        ┆ …        ┆ …        ┆ …        ┆ …        ┆ …        ┆ …        │\n",
      "│ 0M5CXCDW ┆ RT76AYI  ┆ Ford     ┆ F350     ┆ 2019     ┆ Pickup   ┆ Ford     ┆ 2019     ┆ 2019     │\n",
      "│ 53CKBJKH ┆          ┆          ┆ Super    ┆          ┆          ┆ F350     ┆ Ford     ┆ Ford     │\n",
      "│ V        ┆          ┆          ┆ Duty     ┆          ┆          ┆ Super    ┆ F350     ┆ F350     │\n",
      "│          ┆          ┆          ┆ Super    ┆          ┆          ┆ Duty     ┆ Super    ┆ Super    │\n",
      "│          ┆          ┆          ┆ Cab      ┆          ┆          ┆ Super    ┆ Duty     ┆ Duty     │\n",
      "│          ┆          ┆          ┆          ┆          ┆          ┆ Cab      ┆ Supe…    ┆ Supe…    │\n",
      "│ 2VT9EL51 ┆ PW89 HVF ┆ Audi     ┆ S8       ┆ 2008     ┆ Sedan    ┆ Audi S8  ┆ 2008     ┆ 2008     │\n",
      "│ XXTL55X3 ┆          ┆          ┆          ┆          ┆          ┆          ┆ Audi S8  ┆ Audi S8  │\n",
      "│ N        ┆          ┆          ┆          ┆          ┆          ┆          ┆          ┆ (Sedan)  │\n",
      "│ N6HNRCG3 ┆ OI96IWZ  ┆ Volkswag ┆ Corrado  ┆ 1994     ┆ Coupe    ┆ Volkswag ┆ 1994 Vol ┆ 1994 Vol │\n",
      "│ 25NZ1NN6 ┆          ┆ en       ┆          ┆          ┆          ┆ en       ┆ kswagen  ┆ kswagen  │\n",
      "│ 7        ┆          ┆          ┆          ┆          ┆          ┆ Corrado  ┆ Corrado  ┆ Corrado  │\n",
      "│          ┆          ┆          ┆          ┆          ┆          ┆          ┆          ┆ (Coupe…  │\n",
      "│ PF8S4YX1 ┆ RI98 AYH ┆ MAZDA    ┆ MX-6     ┆ 1996     ┆ Coupe    ┆ MAZDA    ┆ 1996     ┆ 1996     │\n",
      "│ 34J1F1KL ┆          ┆          ┆          ┆          ┆          ┆ MX-6     ┆ MAZDA    ┆ MAZDA    │\n",
      "│ K        ┆          ┆          ┆          ┆          ┆          ┆          ┆ MX-6     ┆ MX-6     │\n",
      "│          ┆          ┆          ┆          ┆          ┆          ┆          ┆          ┆ (Coupe)  │\n",
      "│ 0B62DRSA ┆ EM51 KFT ┆ Land     ┆ Range    ┆ 2014     ┆ SUV      ┆ Land     ┆ 2014     ┆ 2014     │\n",
      "│ 33FZPSH2 ┆          ┆ Rover    ┆ Rover    ┆          ┆          ┆ Rover    ┆ Land     ┆ Land     │\n",
      "│ V        ┆          ┆          ┆          ┆          ┆          ┆ Range    ┆ Rover    ┆ Rover    │\n",
      "│          ┆          ┆          ┆          ┆          ┆          ┆ Rover    ┆ Range    ┆ Range    │\n",
      "│          ┆          ┆          ┆          ┆          ┆          ┆          ┆ Rover    ┆ Rover    │\n",
      "│          ┆          ┆          ┆          ┆          ┆          ┆          ┆          ┆ (S…      │\n",
      "└──────────┴──────────┴──────────┴──────────┴──────────┴──────────┴──────────┴──────────┴──────────┘\n"
     ]
    }
   ],
   "source": [
    "data = retrieve_data_from_db(\"SELECT * FROM vehicles;\", \"\")\n",
    "with pl.Config(tbl_cols=-1):\n",
    "    print(data)"
   ]
  },
  {
   "cell_type": "markdown",
   "metadata": {},
   "source": [
    "## Test 2 - update the record and get the updated version"
   ]
  },
  {
   "cell_type": "code",
   "execution_count": 55,
   "metadata": {},
   "outputs": [
    {
     "name": "stdout",
     "output_type": "stream",
     "text": [
      "shape: (1, 9)\n",
      "┌──────────┬──────────┬──────────┬──────────┬──────────┬──────────┬──────────┬──────────┬──────────┐\n",
      "│ vin      ┆ license_ ┆ vehicle_ ┆ vehicle_ ┆ vehicle_ ┆ vehicle_ ┆ vehicle_ ┆ vehicle_ ┆ vehicle_ │\n",
      "│ ---      ┆ plate    ┆ make     ┆ model    ┆ year     ┆ category ┆ make_mod ┆ year_mak ┆ year_mak │\n",
      "│ str      ┆ ---      ┆ ---      ┆ ---      ┆ ---      ┆ ---      ┆ el       ┆ e_model  ┆ e_model_ │\n",
      "│          ┆ str      ┆ str      ┆ str      ┆ i64      ┆ str      ┆ ---      ┆ ---      ┆ cat      │\n",
      "│          ┆          ┆          ┆          ┆          ┆          ┆ str      ┆ str      ┆ ---      │\n",
      "│          ┆          ┆          ┆          ┆          ┆          ┆          ┆          ┆ str      │\n",
      "╞══════════╪══════════╪══════════╪══════════╪══════════╪══════════╪══════════╪══════════╪══════════╡\n",
      "│ 82HFE976 ┆ WU37 WRN ┆ Mitsubis ┆ Montero  ┆ 1999     ┆ SUV      ┆ Mitsubis ┆ 1999 Mit ┆ 1999 Mit │\n",
      "│ 7U326DEZ ┆          ┆ hi       ┆          ┆          ┆          ┆ hi       ┆ subishi  ┆ subishi  │\n",
      "│ 2        ┆          ┆          ┆          ┆          ┆          ┆ Montero  ┆ Montero  ┆ Montero  │\n",
      "│          ┆          ┆          ┆          ┆          ┆          ┆          ┆          ┆ (SUV)    │\n",
      "└──────────┴──────────┴──────────┴──────────┴──────────┴──────────┴──────────┴──────────┴──────────┘\n"
     ]
    }
   ],
   "source": [
    "data = retrieve_data_from_db(query = \"SELECT * FROM vehicles WHERE vin = %s;\", params = (\"82HFE9767U326DEZ2\",))\n",
    "with pl.Config(tbl_cols=-1):\n",
    "    print(data)"
   ]
  },
  {
   "cell_type": "code",
   "execution_count": 56,
   "metadata": {},
   "outputs": [
    {
     "name": "stdout",
     "output_type": "stream",
     "text": [
      "Number of rows updated: 1\n"
     ]
    }
   ],
   "source": [
    "table_name = \"vehicles\"\n",
    "update_values = {\"vehicle_make\": \"Toyota\", \"vehicle_model\": \"Camry\"}\n",
    "condition = \"vin = %s\"\n",
    "condition_params = (\"82HFE9767U326DEZ2\",)\n",
    "rows_updated = update_record_in_db(table_name, update_values, condition, condition_params)\n",
    "print(f\"Number of rows updated: {rows_updated}\")"
   ]
  },
  {
   "cell_type": "code",
   "execution_count": 57,
   "metadata": {},
   "outputs": [
    {
     "name": "stdout",
     "output_type": "stream",
     "text": [
      "shape: (1, 9)\n",
      "┌──────────┬──────────┬──────────┬──────────┬──────────┬──────────┬──────────┬──────────┬──────────┐\n",
      "│ vin      ┆ license_ ┆ vehicle_ ┆ vehicle_ ┆ vehicle_ ┆ vehicle_ ┆ vehicle_ ┆ vehicle_ ┆ vehicle_ │\n",
      "│ ---      ┆ plate    ┆ make     ┆ model    ┆ year     ┆ category ┆ make_mod ┆ year_mak ┆ year_mak │\n",
      "│ str      ┆ ---      ┆ ---      ┆ ---      ┆ ---      ┆ ---      ┆ el       ┆ e_model  ┆ e_model_ │\n",
      "│          ┆ str      ┆ str      ┆ str      ┆ i64      ┆ str      ┆ ---      ┆ ---      ┆ cat      │\n",
      "│          ┆          ┆          ┆          ┆          ┆          ┆ str      ┆ str      ┆ ---      │\n",
      "│          ┆          ┆          ┆          ┆          ┆          ┆          ┆          ┆ str      │\n",
      "╞══════════╪══════════╪══════════╪══════════╪══════════╪══════════╪══════════╪══════════╪══════════╡\n",
      "│ 82HFE976 ┆ WU37 WRN ┆ Toyota   ┆ Camry    ┆ 1999     ┆ SUV      ┆ Mitsubis ┆ 1999 Mit ┆ 1999 Mit │\n",
      "│ 7U326DEZ ┆          ┆          ┆          ┆          ┆          ┆ hi       ┆ subishi  ┆ subishi  │\n",
      "│ 2        ┆          ┆          ┆          ┆          ┆          ┆ Montero  ┆ Montero  ┆ Montero  │\n",
      "│          ┆          ┆          ┆          ┆          ┆          ┆          ┆          ┆ (SUV)    │\n",
      "└──────────┴──────────┴──────────┴──────────┴──────────┴──────────┴──────────┴──────────┴──────────┘\n"
     ]
    }
   ],
   "source": [
    "data = retrieve_data_from_db(query = \"SELECT * FROM vehicles WHERE vin = %s;\", params = (\"82HFE9767U326DEZ2\",))\n",
    "with pl.Config(tbl_cols=-1):\n",
    "    print(data)"
   ]
  },
  {
   "cell_type": "markdown",
   "metadata": {},
   "source": [
    "## Test 3 - Get historical data to see updates"
   ]
  },
  {
   "cell_type": "code",
   "execution_count": null,
   "metadata": {},
   "outputs": [],
   "source": []
  },
  {
   "cell_type": "markdown",
   "metadata": {},
   "source": [
    "## Test 4 - delete the record"
   ]
  },
  {
   "cell_type": "code",
   "execution_count": 58,
   "metadata": {},
   "outputs": [
    {
     "name": "stdout",
     "output_type": "stream",
     "text": [
      "shape: (1, 9)\n",
      "┌──────────┬──────────┬──────────┬──────────┬──────────┬──────────┬──────────┬──────────┬──────────┐\n",
      "│ vin      ┆ license_ ┆ vehicle_ ┆ vehicle_ ┆ vehicle_ ┆ vehicle_ ┆ vehicle_ ┆ vehicle_ ┆ vehicle_ │\n",
      "│ ---      ┆ plate    ┆ make     ┆ model    ┆ year     ┆ category ┆ make_mod ┆ year_mak ┆ year_mak │\n",
      "│ str      ┆ ---      ┆ ---      ┆ ---      ┆ ---      ┆ ---      ┆ el       ┆ e_model  ┆ e_model_ │\n",
      "│          ┆ str      ┆ str      ┆ str      ┆ i64      ┆ str      ┆ ---      ┆ ---      ┆ cat      │\n",
      "│          ┆          ┆          ┆          ┆          ┆          ┆ str      ┆ str      ┆ ---      │\n",
      "│          ┆          ┆          ┆          ┆          ┆          ┆          ┆          ┆ str      │\n",
      "╞══════════╪══════════╪══════════╪══════════╪══════════╪══════════╪══════════╪══════════╪══════════╡\n",
      "│ 82HFE976 ┆ WU37 WRN ┆ Toyota   ┆ Camry    ┆ 1999     ┆ SUV      ┆ Mitsubis ┆ 1999 Mit ┆ 1999 Mit │\n",
      "│ 7U326DEZ ┆          ┆          ┆          ┆          ┆          ┆ hi       ┆ subishi  ┆ subishi  │\n",
      "│ 2        ┆          ┆          ┆          ┆          ┆          ┆ Montero  ┆ Montero  ┆ Montero  │\n",
      "│          ┆          ┆          ┆          ┆          ┆          ┆          ┆          ┆ (SUV)    │\n",
      "└──────────┴──────────┴──────────┴──────────┴──────────┴──────────┴──────────┴──────────┴──────────┘\n"
     ]
    }
   ],
   "source": [
    "data = retrieve_data_from_db(query = \"SELECT * FROM vehicles WHERE vin = %s;\", params = (\"82HFE9767U326DEZ2\",))\n",
    "with pl.Config(tbl_cols=-1):\n",
    "    print(data)"
   ]
  },
  {
   "cell_type": "code",
   "execution_count": 59,
   "metadata": {},
   "outputs": [
    {
     "name": "stdout",
     "output_type": "stream",
     "text": [
      "Number of rows deleted: 1\n"
     ]
    }
   ],
   "source": [
    "table_name = \"vehicles\"\n",
    "condition = \"vin = %s\"\n",
    "condition_params = (\"82HFE9767U326DEZ2\",)\n",
    "rows_deleted = delete_record_from_db(table_name, condition, condition_params)\n",
    "print(f\"Number of rows deleted: {rows_deleted}\")"
   ]
  },
  {
   "cell_type": "code",
   "execution_count": 60,
   "metadata": {},
   "outputs": [
    {
     "name": "stdout",
     "output_type": "stream",
     "text": [
      "shape: (0, 0)\n",
      "┌┐\n",
      "╞╡\n",
      "└┘\n"
     ]
    }
   ],
   "source": [
    "data = retrieve_data_from_db(query = \"SELECT * FROM vehicles WHERE vin = %s;\", params = (\"82HFE9767U326DEZ2\",))\n",
    "with pl.Config(tbl_cols=-1):\n",
    "    print(data)"
   ]
  },
  {
   "cell_type": "code",
   "execution_count": null,
   "metadata": {},
   "outputs": [],
   "source": []
  },
  {
   "cell_type": "code",
   "execution_count": null,
   "metadata": {},
   "outputs": [],
   "source": []
  },
  {
   "cell_type": "code",
   "execution_count": null,
   "metadata": {},
   "outputs": [],
   "source": []
  }
 ],
 "metadata": {
  "kernelspec": {
   "display_name": ".conda",
   "language": "python",
   "name": "python3"
  },
  "language_info": {
   "codemirror_mode": {
    "name": "ipython",
    "version": 3
   },
   "file_extension": ".py",
   "mimetype": "text/x-python",
   "name": "python",
   "nbconvert_exporter": "python",
   "pygments_lexer": "ipython3",
   "version": "3.12.8"
  }
 },
 "nbformat": 4,
 "nbformat_minor": 2
}
