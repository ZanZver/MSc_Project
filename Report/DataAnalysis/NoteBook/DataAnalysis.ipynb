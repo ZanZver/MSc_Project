{
 "cells": [
  {
   "cell_type": "code",
   "execution_count": 1,
   "metadata": {},
   "outputs": [
    {
     "name": "stdout",
     "output_type": "stream",
     "text": [
      "Collecting numpy\n",
      "  Downloading numpy-2.2.2-cp312-cp312-macosx_14_0_x86_64.whl.metadata (62 kB)\n",
      "Downloading numpy-2.2.2-cp312-cp312-macosx_14_0_x86_64.whl (6.7 MB)\n",
      "\u001b[2K   \u001b[90m━━━━━━━━━━━━━━━━━━━━━━━━━━━━━━━━━━━━━━━━\u001b[0m \u001b[32m6.7/6.7 MB\u001b[0m \u001b[31m11.2 MB/s\u001b[0m eta \u001b[36m0:00:00\u001b[0ma \u001b[36m0:00:01\u001b[0m\n",
      "\u001b[?25hInstalling collected packages: numpy\n",
      "Successfully installed numpy-2.2.2\n",
      "Collecting scipy\n",
      "  Downloading scipy-1.15.1-cp312-cp312-macosx_14_0_x86_64.whl.metadata (61 kB)\n",
      "Requirement already satisfied: numpy<2.5,>=1.23.5 in /Users/zanzver/opt/anaconda3/envs/BobCatLite/lib/python3.12/site-packages (from scipy) (2.2.2)\n",
      "Downloading scipy-1.15.1-cp312-cp312-macosx_14_0_x86_64.whl (28.0 MB)\n",
      "\u001b[2K   \u001b[90m━━━━━━━━━━━━━━━━━━━━━━━━━━━━━━━━━━━━━━━━\u001b[0m \u001b[32m28.0/28.0 MB\u001b[0m \u001b[31m11.5 MB/s\u001b[0m eta \u001b[36m0:00:00\u001b[0ma \u001b[36m0:00:01\u001b[0m\n",
      "\u001b[?25hInstalling collected packages: scipy\n",
      "Successfully installed scipy-1.15.1\n"
     ]
    }
   ],
   "source": [
    "!pip3 install numpy\n",
    "!pip3 install scipy"
   ]
  },
  {
   "cell_type": "code",
   "execution_count": 2,
   "metadata": {},
   "outputs": [],
   "source": [
    "import numpy as np\n",
    "from scipy import stats\n"
   ]
  },
  {
   "cell_type": "code",
   "execution_count": 3,
   "metadata": {},
   "outputs": [
    {
     "name": "stdout",
     "output_type": "stream",
     "text": [
      "T-statistic: 3.5375, P-value: 0.0015\n",
      "Statistically significant difference: Blockchain requests take longer.\n"
     ]
    }
   ],
   "source": [
    "\n",
    "# Response times for each API (Replace with real data samples)\n",
    "blockchain_response_times = np.array([\n",
    "    233000, 204430.79, 39.03, 262810.84, 393.41, \n",
    "    234000, 244000, 247000, 248000, 249000, 253000, 255000, 257000, 263000\n",
    "])\n",
    "\n",
    "db_response_times = np.array([\n",
    "    830, 3170.18, 5.09, 20569.01, 10.65,\n",
    "    830, 1100, 1600, 8900, 11000, 13000, 14000, 15000, 17000, 21000\n",
    "])\n",
    "\n",
    "# Log-transform the data to normalize skewed distributions\n",
    "blockchain_log = np.log1p(blockchain_response_times)\n",
    "db_log = np.log1p(db_response_times)\n",
    "\n",
    "# Perform Welch’s t-test (unequal variance)\n",
    "t_stat, p_value = stats.ttest_ind(blockchain_log, db_log, equal_var=False)\n",
    "\n",
    "print(f\"T-statistic: {t_stat:.4f}, P-value: {p_value:.4f}\")\n",
    "\n",
    "# Interpretation\n",
    "if p_value < 0.05:\n",
    "    print(\"Statistically significant difference: Blockchain requests take longer.\")\n",
    "else:\n",
    "    print(\"No significant difference in response times.\")\n"
   ]
  }
 ],
 "metadata": {
  "kernelspec": {
   "display_name": "BobCatLite",
   "language": "python",
   "name": "python3"
  },
  "language_info": {
   "codemirror_mode": {
    "name": "ipython",
    "version": 3
   },
   "file_extension": ".py",
   "mimetype": "text/x-python",
   "name": "python",
   "nbconvert_exporter": "python",
   "pygments_lexer": "ipython3",
   "version": "3.12.8"
  }
 },
 "nbformat": 4,
 "nbformat_minor": 2
}
